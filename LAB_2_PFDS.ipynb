{
  "nbformat": 4,
  "nbformat_minor": 0,
  "metadata": {
    "colab": {
      "provenance": [],
      "authorship_tag": "ABX9TyNP4WYj/raIc/Z1l+Bn8+XI",
      "include_colab_link": true
    },
    "kernelspec": {
      "name": "python3",
      "display_name": "Python 3"
    },
    "language_info": {
      "name": "python"
    }
  },
  "cells": [
    {
      "cell_type": "markdown",
      "metadata": {
        "id": "view-in-github",
        "colab_type": "text"
      },
      "source": [
        "<a href=\"https://colab.research.google.com/github/2303A51125/B3_PFDS_1125/blob/main/LAB_2_PFDS.ipynb\" target=\"_parent\"><img src=\"https://colab.research.google.com/assets/colab-badge.svg\" alt=\"Open In Colab\"/></a>"
      ]
    },
    {
      "cell_type": "code",
      "execution_count": 1,
      "metadata": {
        "colab": {
          "base_uri": "https://localhost:8080/"
        },
        "id": "36kXfdnEEDlt",
        "outputId": "d2fa4e71-0452-4151-d03a-312c40b8bd12"
      },
      "outputs": [
        {
          "output_type": "stream",
          "name": "stdout",
          "text": [
            "All Marks:\n",
            " [[85 78 92]\n",
            " [76 88 81]\n",
            " [90 94 89]\n",
            " [65 70 72]\n",
            " [88 91 85]]\n"
          ]
        }
      ],
      "source": [
        "import numpy as np\n",
        "\n",
        "a = np.array([\n",
        "    [85, 78, 92],\n",
        "    [76, 88, 81],\n",
        "    [90, 94, 89],\n",
        "    [65, 70, 72],\n",
        "    [88, 91, 85]\n",
        "])\n",
        "\n",
        "print(\"All Marks:\\n\", a)"
      ]
    },
    {
      "cell_type": "code",
      "source": [
        "b = np.mean(a, axis=1)\n",
        "c = np.min(a, axis=1)\n",
        "d = np.max(a, axis=1)\n",
        "\n",
        "print(\"\\nAverage Marks:\", b)\n",
        "print(\"Minimum Marks:\", c)\n",
        "print(\"Maximum Marks:\", d)"
      ],
      "metadata": {
        "colab": {
          "base_uri": "https://localhost:8080/"
        },
        "id": "Auk-5GfoFAW2",
        "outputId": "46f96d80-e944-4ce9-e409-688e58c4ff2c"
      },
      "execution_count": 2,
      "outputs": [
        {
          "output_type": "stream",
          "name": "stdout",
          "text": [
            "\n",
            "Average Marks: [85.         81.66666667 91.         69.         88.        ]\n",
            "Minimum Marks: [78 76 89 65 85]\n",
            "Maximum Marks: [92 88 94 72 91]\n"
          ]
        }
      ]
    },
    {
      "cell_type": "code",
      "source": [
        "e = a[[0, 2]]\n",
        "print(\"\\nMarks of Student 1 and 3:\\n\", e)"
      ],
      "metadata": {
        "colab": {
          "base_uri": "https://localhost:8080/"
        },
        "id": "Tzz_j2g7FAOU",
        "outputId": "468101f0-1d82-440a-c015-14b085b0352d"
      },
      "execution_count": 3,
      "outputs": [
        {
          "output_type": "stream",
          "name": "stdout",
          "text": [
            "\n",
            "Marks of Student 1 and 3:\n",
            " [[85 78 92]\n",
            " [90 94 89]]\n"
          ]
        }
      ]
    },
    {
      "cell_type": "code",
      "source": [
        "f = np.any(a > 80, axis=1)\n",
        "g = a[f]\n",
        "\n",
        "print(\"\\nStudents scoring above 80 in any subject:\\n\", g)"
      ],
      "metadata": {
        "colab": {
          "base_uri": "https://localhost:8080/"
        },
        "id": "pkNGKdyxFIzp",
        "outputId": "ff9c04d6-742d-4f73-b9ce-96af1bc48510"
      },
      "execution_count": 4,
      "outputs": [
        {
          "output_type": "stream",
          "name": "stdout",
          "text": [
            "\n",
            "Students scoring above 80 in any subject:\n",
            " [[85 78 92]\n",
            " [76 88 81]\n",
            " [90 94 89]\n",
            " [88 91 85]]\n"
          ]
        }
      ]
    },
    {
      "cell_type": "code",
      "source": [
        "h = a.T\n",
        "print(\"\\nSubject-wise Marks:\\n\", h)"
      ],
      "metadata": {
        "colab": {
          "base_uri": "https://localhost:8080/"
        },
        "id": "hIiC2Eq8FIlo",
        "outputId": "b66f04f2-da69-4dcb-b00f-09777fb47534"
      },
      "execution_count": 5,
      "outputs": [
        {
          "output_type": "stream",
          "name": "stdout",
          "text": [
            "\n",
            "Subject-wise Marks:\n",
            " [[85 76 90 65 88]\n",
            " [78 88 94 70 91]\n",
            " [92 81 89 72 85]]\n"
          ]
        }
      ]
    },
    {
      "cell_type": "code",
      "source": [
        "print(\"\\nAnalysis:\")\n",
        "print(\"• Student 3 has top marks overall.\")\n",
        "print(\"• Student 4 has lowest average.\")\n",
        "print(\"• Subject 2 has generally high scores.\")\n",
        "print(\"• Many students scored above 80 in at least one subject.\")"
      ],
      "metadata": {
        "colab": {
          "base_uri": "https://localhost:8080/"
        },
        "id": "PtXOMOdQFIdv",
        "outputId": "9ef2ce95-b33a-40f1-edd1-13517b43722a"
      },
      "execution_count": 6,
      "outputs": [
        {
          "output_type": "stream",
          "name": "stdout",
          "text": [
            "\n",
            "Analysis:\n",
            "• Student 3 has top marks overall.\n",
            "• Student 4 has lowest average.\n",
            "• Subject 2 has generally high scores.\n",
            "• Many students scored above 80 in at least one subject.\n"
          ]
        }
      ]
    }
  ]
}