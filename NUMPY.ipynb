{
  "nbformat": 4,
  "nbformat_minor": 0,
  "metadata": {
    "colab": {
      "provenance": [],
      "authorship_tag": "ABX9TyMnfwY1Ks3Uwts025vDtxAo",
      "include_colab_link": true
    },
    "kernelspec": {
      "name": "python3",
      "display_name": "Python 3"
    },
    "language_info": {
      "name": "python"
    }
  },
  "cells": [
    {
      "cell_type": "markdown",
      "metadata": {
        "id": "view-in-github",
        "colab_type": "text"
      },
      "source": [
        "<a href=\"https://colab.research.google.com/github/2303A51125/B3_PFDS_1125/blob/main/NUMPY.ipynb\" target=\"_parent\"><img src=\"https://colab.research.google.com/assets/colab-badge.svg\" alt=\"Open In Colab\"/></a>"
      ]
    },
    {
      "cell_type": "code",
      "execution_count": 4,
      "metadata": {
        "colab": {
          "base_uri": "https://localhost:8080/"
        },
        "id": "HaqkiLowwfvB",
        "outputId": "20d86594-c75a-41c4-ec1c-320f9c10c828"
      },
      "outputs": [
        {
          "output_type": "stream",
          "name": "stdout",
          "text": [
            "[1 2 3 4]\n",
            "[[1 2]\n",
            " [3 4]]\n",
            "[[0. 0.]\n",
            " [0. 0.]]\n",
            "[[1. 1. 1.]\n",
            " [1. 1. 1.]]\n"
          ]
        }
      ],
      "source": [
        "import numpy as np\n",
        "a = np.array([1,2,3,4])\n",
        "print(a)\n",
        "b = np.array([[1,2],[3,4]])\n",
        "print(b)\n",
        "c = np.zeros((2,2))\n",
        "print(c)\n",
        "d = np.ones((2,3))\n",
        "print(d)"
      ]
    },
    {
      "cell_type": "code",
      "source": [
        "#RANGE OF NUMBERS\n",
        "range_arr = np.arange(0,10,2)\n",
        "print(\"RangeArray:\",range_arr)"
      ],
      "metadata": {
        "colab": {
          "base_uri": "https://localhost:8080/"
        },
        "id": "jVupI0HhyN0t",
        "outputId": "6e3dce94-7f6d-4511-b00b-428831479a45"
      },
      "execution_count": 6,
      "outputs": [
        {
          "output_type": "stream",
          "name": "stdout",
          "text": [
            "RangeArray: [0 2 4 6 8]\n"
          ]
        }
      ]
    },
    {
      "cell_type": "code",
      "source": [
        "#RANDOM ARRAY\n",
        "rand_arr = np.random.rand(2,3)\n",
        "print(\"RandomArray:\\n\",rand_arr)"
      ],
      "metadata": {
        "colab": {
          "base_uri": "https://localhost:8080/"
        },
        "id": "JWljFW38y6Bk",
        "outputId": "47e04210-f0c6-4d82-9108-c0cec96461f5"
      },
      "execution_count": 7,
      "outputs": [
        {
          "output_type": "stream",
          "name": "stdout",
          "text": [
            "RandomArray:\n",
            " [[0.2256691  0.41586953 0.6624834 ]\n",
            " [0.8146635  0.53706363 0.78963036]]\n"
          ]
        }
      ]
    },
    {
      "cell_type": "code",
      "source": [
        "#ATTRIBUTES OF ARRAY\n",
        "a = np.array([[1,2,3],[4,5,6]])\n",
        "print(a.shape)\n",
        "print(a.ndim)\n",
        "print(a.dtype)\n",
        "print(a.size)\n",
        "print(a.itemsize)"
      ],
      "metadata": {
        "colab": {
          "base_uri": "https://localhost:8080/"
        },
        "id": "SKZoMsSizQyY",
        "outputId": "c2c0a707-2105-46ff-a67a-0b8b22b6f948"
      },
      "execution_count": 9,
      "outputs": [
        {
          "output_type": "stream",
          "name": "stdout",
          "text": [
            "(2, 3)\n",
            "2\n",
            "int64\n",
            "6\n",
            "8\n"
          ]
        }
      ]
    },
    {
      "cell_type": "code",
      "source": [
        "#ARRAY INDEXING AND SLICING\n",
        "a = np.array([10,20,30,40,50])\n",
        "print(a[2])\n",
        "print(a[3])\n",
        "print(a[-1])\n",
        "print(a[1:3])\n",
        "print(a[::2])\n",
        "print(a[1::])"
      ],
      "metadata": {
        "colab": {
          "base_uri": "https://localhost:8080/"
        },
        "id": "RaJo3m4_0HVe",
        "outputId": "5faf4ee2-5a72-4b41-bf58-48cf5163dc8d"
      },
      "execution_count": 11,
      "outputs": [
        {
          "output_type": "stream",
          "name": "stdout",
          "text": [
            "30\n",
            "40\n",
            "50\n",
            "[20 30]\n",
            "[10 30 50]\n",
            "[20 30 40 50]\n"
          ]
        }
      ]
    },
    {
      "cell_type": "code",
      "source": [
        "#2D ARRAY\n",
        "a = np.array([[10,20,30],[40,50,60]])\n",
        "print(a[1][1])\n",
        "print(a[0:1])\n",
        "print(a[1::])\n",
        "print(a[::1])"
      ],
      "metadata": {
        "colab": {
          "base_uri": "https://localhost:8080/"
        },
        "id": "CBRuaYmy2MY0",
        "outputId": "1e8ffb20-01ef-4d9b-c6bb-09e85f2ed2dc"
      },
      "execution_count": 14,
      "outputs": [
        {
          "output_type": "stream",
          "name": "stdout",
          "text": [
            "50\n",
            "[[10 20 30]]\n",
            "[[40 50 60]]\n",
            "[[10 20 30]\n",
            " [40 50 60]]\n"
          ]
        }
      ]
    },
    {
      "cell_type": "code",
      "source": [
        "#ARITHEMATIC OPERATIONS\n",
        "a = np.array([1,2,3])\n",
        "b= np.array([4,5,6])\n",
        "print(a+b)\n",
        "print(a-b)\n",
        "print(a*b)\n",
        "print(a**b)\n",
        "print(a/b)\n"
      ],
      "metadata": {
        "colab": {
          "base_uri": "https://localhost:8080/"
        },
        "id": "qEBQIPKW3VAq",
        "outputId": "9d0131ab-367f-43c5-9bf6-3df5193bf65b"
      },
      "execution_count": 15,
      "outputs": [
        {
          "output_type": "stream",
          "name": "stdout",
          "text": [
            "[5 7 9]\n",
            "[-3 -3 -3]\n",
            "[ 4 10 18]\n",
            "[  1  32 729]\n",
            "[0.25 0.4  0.5 ]\n"
          ]
        }
      ]
    },
    {
      "cell_type": "code",
      "source": [
        "#AGGREGATE FUNCTIONS\n",
        "a = np.array([[1,2,3],[4,5,6]])\n",
        "print(np.sum(a))\n",
        "print(np.max(a))\n",
        "print(np.min(a))\n",
        "print(np.mean(a))\n",
        "print(np.std(a))\n",
        "print(np.sum(a,axis=0))\n",
        "print(np.sum(a,axis=1))"
      ],
      "metadata": {
        "colab": {
          "base_uri": "https://localhost:8080/"
        },
        "id": "rWB6R7ec32gF",
        "outputId": "fa56d5e5-86d4-4347-bf39-d33ad08e541b"
      },
      "execution_count": 17,
      "outputs": [
        {
          "output_type": "stream",
          "name": "stdout",
          "text": [
            "21\n",
            "6\n",
            "1\n",
            "3.5\n",
            "1.707825127659933\n",
            "[5 7 9]\n",
            "[ 6 15]\n"
          ]
        }
      ]
    },
    {
      "cell_type": "code",
      "source": [
        "#BROADCASTING\n",
        "a = np.array([1,2,3])\n",
        "b = 5\n",
        "print(a+b)\n",
        "c = np.array([[1],[2],[3]])\n",
        "d = np.array([4,5,6])\n",
        "print(c+d)"
      ],
      "metadata": {
        "colab": {
          "base_uri": "https://localhost:8080/"
        },
        "id": "ZyRhzI0_5IQK",
        "outputId": "8fa64885-1b14-4b11-e65e-dd3caebcaeb6"
      },
      "execution_count": 19,
      "outputs": [
        {
          "output_type": "stream",
          "name": "stdout",
          "text": [
            "[6 7 8]\n",
            "[[5 6 7]\n",
            " [6 7 8]\n",
            " [7 8 9]]\n"
          ]
        }
      ]
    }
  ]
}