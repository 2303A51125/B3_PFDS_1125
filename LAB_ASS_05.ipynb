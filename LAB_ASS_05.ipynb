{
  "nbformat": 4,
  "nbformat_minor": 0,
  "metadata": {
    "colab": {
      "provenance": [],
      "authorship_tag": "ABX9TyOCpTvYpxq3MjmZx0zIZGru",
      "include_colab_link": true
    },
    "kernelspec": {
      "name": "python3",
      "display_name": "Python 3"
    },
    "language_info": {
      "name": "python"
    }
  },
  "cells": [
    {
      "cell_type": "markdown",
      "metadata": {
        "id": "view-in-github",
        "colab_type": "text"
      },
      "source": [
        "<a href=\"https://colab.research.google.com/github/2303A51125/B3_PFDS_1125/blob/main/LAB_ASS_05.ipynb\" target=\"_parent\"><img src=\"https://colab.research.google.com/assets/colab-badge.svg\" alt=\"Open In Colab\"/></a>"
      ]
    },
    {
      "cell_type": "code",
      "source": [
        "#LAB_ASS_05(2)"
      ],
      "metadata": {
        "id": "L9UbtRF1OrTP"
      },
      "execution_count": 6,
      "outputs": []
    },
    {
      "cell_type": "code",
      "execution_count": 7,
      "metadata": {
        "colab": {
          "base_uri": "https://localhost:8080/"
        },
        "id": "NQ0B_G7VL2sd",
        "outputId": "c6207d62-9924-4d5f-aa0a-1002cfd1029d"
      },
      "outputs": [
        {
          "output_type": "stream",
          "name": "stdout",
          "text": [
            "Teachers:\n",
            "    tid    tname dept\n",
            "0    1    Alice  CSE\n",
            "1    2      Bob  CSE\n",
            "2    3  Charlie   AI\n",
            "3    4    David  CSE \n",
            "\n",
            "Courses:\n",
            "    cid          cname  tid\n",
            "0  101         Python    1\n",
            "1  102           DBMS    2\n",
            "2  103      AI Basics    2\n",
            "3  104             ML    3\n",
            "4  105             OS    4\n",
            "5  106  Deep Learning    3\n",
            "\n",
            "Inner Join:\n",
            "    cid          cname  tid    tname dept\n",
            "0  101         Python    1    Alice  CSE\n",
            "1  102           DBMS    2      Bob  CSE\n",
            "2  103      AI Basics    2      Bob  CSE\n",
            "3  104             ML    3  Charlie   AI\n",
            "4  105             OS    4    David  CSE\n",
            "5  106  Deep Learning    3  Charlie   AI\n",
            "\n",
            "Left Join:\n",
            "    tid    tname dept  cid          cname\n",
            "0    1    Alice  CSE  101         Python\n",
            "1    2      Bob  CSE  102           DBMS\n",
            "2    2      Bob  CSE  103      AI Basics\n",
            "3    3  Charlie   AI  104             ML\n",
            "4    3  Charlie   AI  106  Deep Learning\n",
            "5    4    David  CSE  105             OS\n"
          ]
        }
      ],
      "source": [
        "import pandas as pd\n",
        "\n",
        "t = pd.DataFrame({\n",
        "    'tid': [1, 2, 3, 4],\n",
        "    'tname': ['Alice', 'Bob', 'Charlie', 'David'],\n",
        "    'dept': ['CSE', 'CSE', 'AI', 'CSE']\n",
        "})\n",
        "\n",
        "c = pd.DataFrame({\n",
        "    'cid': [101, 102, 103, 104, 105, 106],\n",
        "    'cname': ['Python', 'DBMS', 'AI Basics', 'ML', 'OS', 'Deep Learning'],\n",
        "    'tid': [1, 2, 2, 3, 4, 3]\n",
        "})\n",
        "\n",
        "print(\"Teachers:\\n\", t, \"\\n\")\n",
        "print(\"Courses:\\n\", c)\n",
        "\n",
        "im = pd.merge(c, t, on='tid', how='inner')\n",
        "lm = pd.merge(t, c, on='tid', how='left')\n",
        "\n",
        "print(\"\\nInner Join:\\n\", im)\n",
        "print(\"\\nLeft Join:\\n\", lm)"
      ]
    },
    {
      "cell_type": "code",
      "source": [
        "#LAB_ASS_05(1)"
      ],
      "metadata": {
        "id": "mqa9zQcDO6H7"
      },
      "execution_count": 8,
      "outputs": []
    },
    {
      "cell_type": "code",
      "source": [
        "import pandas as pd\n",
        "\n",
        "p = pd.DataFrame({\n",
        "    'pid': [1, 2, 3, 4],\n",
        "    'pname': ['Laptop', 'Phone', 'Tablet', 'Headphones'],\n",
        "    'cat': ['Electronics', 'Electronics', 'Electronics', 'Accessories'],\n",
        "    'price': [60000, 30000, 20000, 5000]\n",
        "})\n",
        "\n",
        "s = pd.DataFrame({\n",
        "    'sid': [101, 102, 103, 104, 105, 106, 107],\n",
        "    'pid': [1, 2, 2, 3, 4, 4, 1],\n",
        "    'qty': [2, 1, 3, 2, 5, 2, 1]\n",
        "})\n",
        "\n",
        "im = pd.merge(s, p, on='pid', how='inner')\n",
        "om = pd.merge(s, p, on='pid', how='outer')\n",
        "\n",
        "im['rev'] = im['price'] * im['qty']\n",
        "tot_rev = im['rev'].sum()\n",
        "avg_price = p['price'].mean()\n",
        "ps = im.groupby('pname')['qty'].sum().reset_index()\n",
        "cs = im.groupby('cat')['rev'].sum().reset_index()\n",
        "best_cat = cs.loc[cs['rev'].idxmax()]\n",
        "\n",
        "print(\"Products:\\n\", p, \"\\n\")\n",
        "print(\"Sales:\\n\", s, \"\\n\")\n",
        "print(\"Inner Merge:\\n\", im, \"\\n\")\n",
        "print(\"Outer Merge:\\n\", om, \"\\n\")\n",
        "print(\"Total Revenue:\", tot_rev, \"\\n\")\n",
        "print(\"Average Price:\", avg_price, \"\\n\")\n",
        "print(\"Product Sales:\\n\", ps, \"\\n\")\n",
        "print(\"Category Revenue:\\n\", cs, \"\\n\")\n",
        "print(\"Best Category:\\n\", best_cat)"
      ],
      "metadata": {
        "colab": {
          "base_uri": "https://localhost:8080/"
        },
        "id": "fEH7tEEqO9r-",
        "outputId": "c6f4209d-ff03-4636-eaaa-398f5c16b64e"
      },
      "execution_count": 9,
      "outputs": [
        {
          "output_type": "stream",
          "name": "stdout",
          "text": [
            "Products:\n",
            "    pid       pname          cat  price\n",
            "0    1      Laptop  Electronics  60000\n",
            "1    2       Phone  Electronics  30000\n",
            "2    3      Tablet  Electronics  20000\n",
            "3    4  Headphones  Accessories   5000 \n",
            "\n",
            "Sales:\n",
            "    sid  pid  qty\n",
            "0  101    1    2\n",
            "1  102    2    1\n",
            "2  103    2    3\n",
            "3  104    3    2\n",
            "4  105    4    5\n",
            "5  106    4    2\n",
            "6  107    1    1 \n",
            "\n",
            "Inner Merge:\n",
            "    sid  pid  qty       pname          cat  price     rev\n",
            "0  101    1    2      Laptop  Electronics  60000  120000\n",
            "1  102    2    1       Phone  Electronics  30000   30000\n",
            "2  103    2    3       Phone  Electronics  30000   90000\n",
            "3  104    3    2      Tablet  Electronics  20000   40000\n",
            "4  105    4    5  Headphones  Accessories   5000   25000\n",
            "5  106    4    2  Headphones  Accessories   5000   10000\n",
            "6  107    1    1      Laptop  Electronics  60000   60000 \n",
            "\n",
            "Outer Merge:\n",
            "    sid  pid  qty       pname          cat  price\n",
            "0  101    1    2      Laptop  Electronics  60000\n",
            "1  107    1    1      Laptop  Electronics  60000\n",
            "2  102    2    1       Phone  Electronics  30000\n",
            "3  103    2    3       Phone  Electronics  30000\n",
            "4  104    3    2      Tablet  Electronics  20000\n",
            "5  105    4    5  Headphones  Accessories   5000\n",
            "6  106    4    2  Headphones  Accessories   5000 \n",
            "\n",
            "Total Revenue: 375000 \n",
            "\n",
            "Average Price: 28750.0 \n",
            "\n",
            "Product Sales:\n",
            "         pname  qty\n",
            "0  Headphones    7\n",
            "1      Laptop    3\n",
            "2       Phone    4\n",
            "3      Tablet    2 \n",
            "\n",
            "Category Revenue:\n",
            "            cat     rev\n",
            "0  Accessories   35000\n",
            "1  Electronics  340000 \n",
            "\n",
            "Best Category:\n",
            " cat    Electronics\n",
            "rev         340000\n",
            "Name: 1, dtype: object\n"
          ]
        }
      ]
    }
  ]
}