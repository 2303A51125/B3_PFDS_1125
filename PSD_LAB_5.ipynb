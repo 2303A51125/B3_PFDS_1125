{
  "nbformat": 4,
  "nbformat_minor": 0,
  "metadata": {
    "colab": {
      "provenance": [],
      "authorship_tag": "ABX9TyODf15FaNbTpSbXYOrQ2A4V",
      "include_colab_link": true
    },
    "kernelspec": {
      "name": "python3",
      "display_name": "Python 3"
    },
    "language_info": {
      "name": "python"
    }
  },
  "cells": [
    {
      "cell_type": "markdown",
      "metadata": {
        "id": "view-in-github",
        "colab_type": "text"
      },
      "source": [
        "<a href=\"https://colab.research.google.com/github/2303A51125/B3_PFDS_1125/blob/main/PSD_LAB_5.ipynb\" target=\"_parent\"><img src=\"https://colab.research.google.com/assets/colab-badge.svg\" alt=\"Open In Colab\"/></a>"
      ]
    },
    {
      "cell_type": "code",
      "execution_count": 8,
      "metadata": {
        "id": "Ip44-9eTBx1s"
      },
      "outputs": [],
      "source": [
        "#DECTECT MISSING VALUES\n",
        "import pandas as pd\n",
        "import numpy as np"
      ]
    },
    {
      "cell_type": "code",
      "source": [
        "data ={\n",
        "    'Name':['THRISHOOL','SUMANTH','RISHAAK','PAVAN'],\n",
        "    'Age':[25,np.nan,30,28],\n",
        "    'Marks':[85,90,np.nan,92]\n",
        "}"
      ],
      "metadata": {
        "id": "o5HcTW7tCJBS"
      },
      "execution_count": 10,
      "outputs": []
    },
    {
      "cell_type": "code",
      "source": [
        "df = pd.DataFrame(data)\n",
        "print(\"original DataFrame\")\n",
        "print(df)\n",
        "print(\"\\n check for missing values\")\n",
        "print(df.isnull())"
      ],
      "metadata": {
        "colab": {
          "base_uri": "https://localhost:8080/"
        },
        "id": "lJk1kjORDGVB",
        "outputId": "d7db56d8-cd63-4c43-995d-6d90753ed59d"
      },
      "execution_count": 9,
      "outputs": [
        {
          "output_type": "stream",
          "name": "stdout",
          "text": [
            "original DataFrame\n",
            "        Name   Age  Marks\n",
            "0  THRISHOOL  25.0   85.0\n",
            "1    SUMANTH   NaN   90.0\n",
            "2    RISHAAK  30.0    NaN\n",
            "3      PAVAN  28.0   92.0\n",
            "\n",
            " check for missing values\n",
            "    Name    Age  Marks\n",
            "0  False  False  False\n",
            "1  False   True  False\n",
            "2  False  False   True\n",
            "3  False  False  False\n"
          ]
        }
      ]
    },
    {
      "cell_type": "code",
      "source": [
        "df_dropped = df.dropna()\n",
        "print(\"After dropping rows with nan:\")\n",
        "print(df_dropped)"
      ],
      "metadata": {
        "colab": {
          "base_uri": "https://localhost:8080/"
        },
        "id": "9LNTb9gmEK7l",
        "outputId": "18410399-7c70-41e1-c1db-834bf2151462"
      },
      "execution_count": 11,
      "outputs": [
        {
          "output_type": "stream",
          "name": "stdout",
          "text": [
            "After dropping rows with nan:\n",
            "        Name   Age  Marks\n",
            "0  THRISHOOL  25.0   85.0\n",
            "3      PAVAN  28.0   92.0\n"
          ]
        }
      ]
    },
    {
      "cell_type": "code",
      "source": [
        "df_filled = df.fillna(0)\n",
        "print(\"filled with 0:\")\n",
        "print(df_filled)"
      ],
      "metadata": {
        "colab": {
          "base_uri": "https://localhost:8080/"
        },
        "id": "NQM3CUI3Ecw2",
        "outputId": "9054f79e-6150-472c-8db7-fe4560d7852f"
      },
      "execution_count": 12,
      "outputs": [
        {
          "output_type": "stream",
          "name": "stdout",
          "text": [
            "filled with 0:\n",
            "        Name   Age  Marks\n",
            "0  THRISHOOL  25.0   85.0\n",
            "1    SUMANTH   0.0   90.0\n",
            "2    RISHAAK  30.0    0.0\n",
            "3      PAVAN  28.0   92.0\n"
          ]
        }
      ]
    },
    {
      "cell_type": "code",
      "source": [
        "df['Age']=df['Age'].fillna(df['Age'].mean())\n",
        "df['marks']=df['Marks'].fillna(df['Marks'].median())\n",
        "print(\"\\nfilled with mean\")\n",
        "print(df)"
      ],
      "metadata": {
        "colab": {
          "base_uri": "https://localhost:8080/"
        },
        "id": "5vA8qxfMEppk",
        "outputId": "17b4a8b1-768f-4fb6-e70f-be401225b0c4"
      },
      "execution_count": 13,
      "outputs": [
        {
          "output_type": "stream",
          "name": "stdout",
          "text": [
            "\n",
            "filled with mean\n",
            "        Name        Age  Marks  marks\n",
            "0  THRISHOOL  25.000000   85.0   85.0\n",
            "1    SUMANTH  27.666667   90.0   90.0\n",
            "2    RISHAAK  30.000000    NaN   90.0\n",
            "3      PAVAN  28.000000   92.0   92.0\n"
          ]
        }
      ]
    },
    {
      "cell_type": "code",
      "source": [
        "data ={\n",
        "    'ID':[1,2,2,3,4,4],\n",
        "    'Name':['THRISHOOL','SUMANTH','SUMANTH','RISHAAK','PAVAN','PAVAN'],\n",
        "    'MARKS':[85,90,90,78,92,92]\n",
        "}\n"
      ],
      "metadata": {
        "id": "fkbpKS12FIXd"
      },
      "execution_count": 14,
      "outputs": []
    },
    {
      "cell_type": "code",
      "source": [
        "df =pd.DataFrame(data)\n",
        "print(\"original DataFrame with Duplicates\")\n",
        "print(df)\n"
      ],
      "metadata": {
        "colab": {
          "base_uri": "https://localhost:8080/"
        },
        "id": "MjgXfhE7F1rD",
        "outputId": "d6b24f90-efc1-4f18-9a81-9f6bde81529d"
      },
      "execution_count": 15,
      "outputs": [
        {
          "output_type": "stream",
          "name": "stdout",
          "text": [
            "original DataFrame with Duplicates\n",
            "   ID       Name  MARKS\n",
            "0   1  THRISHOOL     85\n",
            "1   2    SUMANTH     90\n",
            "2   2    SUMANTH     90\n",
            "3   3    RISHAAK     78\n",
            "4   4      PAVAN     92\n",
            "5   4      PAVAN     92\n"
          ]
        }
      ]
    },
    {
      "cell_type": "code",
      "source": [
        "df_no_dup = df.drop_duplicates()\n",
        "print(\"\\nAfter removing duplicates\")\n",
        "print(df_no_dup)"
      ],
      "metadata": {
        "colab": {
          "base_uri": "https://localhost:8080/"
        },
        "id": "MPH8F_bSF_9u",
        "outputId": "9310ee82-8d18-40d0-eb68-06d665bcf324"
      },
      "execution_count": 18,
      "outputs": [
        {
          "output_type": "stream",
          "name": "stdout",
          "text": [
            "\n",
            "After removing duplicates\n",
            "   ID       Name  MARKS\n",
            "0   1  THRISHOOL     85\n",
            "1   2    SUMANTH     90\n",
            "3   3    RISHAAK     78\n",
            "4   4      PAVAN     92\n"
          ]
        }
      ]
    },
    {
      "cell_type": "code",
      "source": [
        "data = {\n",
        "    'ID':[1,2,3,4],\n",
        "    'MARKS':['85','90','78','92']\n",
        "}"
      ],
      "metadata": {
        "id": "7yObFZCYGpZJ"
      },
      "execution_count": 20,
      "outputs": []
    },
    {
      "cell_type": "code",
      "source": [
        "df = pd.DataFrame(data)\n",
        "print(\"original DataFrame\")\n",
        "print(df)"
      ],
      "metadata": {
        "colab": {
          "base_uri": "https://localhost:8080/"
        },
        "id": "UrUsTj5HH51Y",
        "outputId": "8bcba9c8-a06f-4f24-bb39-a23e27dda67e"
      },
      "execution_count": 21,
      "outputs": [
        {
          "output_type": "stream",
          "name": "stdout",
          "text": [
            "original DataFrame\n",
            "   ID MARKS\n",
            "0   1    85\n",
            "1   2    90\n",
            "2   3    78\n",
            "3   4    92\n"
          ]
        }
      ]
    },
    {
      "cell_type": "code",
      "source": [
        "df['ID'] = pd.to_numeric\n",
        "df['MARKS'] = pd.to_numeric(df['MARKS'])\n",
        "print(\"\\n after conversion\")\n",
        "print(df.dtypes)"
      ],
      "metadata": {
        "colab": {
          "base_uri": "https://localhost:8080/"
        },
        "id": "O7uNRQpwIBDg",
        "outputId": "920ccb9b-6c2d-4aae-fbd2-0e74f2b6145b"
      },
      "execution_count": 22,
      "outputs": [
        {
          "output_type": "stream",
          "name": "stdout",
          "text": [
            "\n",
            " after conversion\n",
            "ID       object\n",
            "MARKS     int64\n",
            "dtype: object\n"
          ]
        }
      ]
    },
    {
      "cell_type": "code",
      "source": [
        "df['MARKS']=df['MARKS'].apply(lambda x:x+5)\n",
        "print(\"\\n after adding bonus 5\")\n",
        "print(df)"
      ],
      "metadata": {
        "colab": {
          "base_uri": "https://localhost:8080/"
        },
        "id": "u-6glig7IrEs",
        "outputId": "b30d118f-a81f-4962-9f1f-45c2a432e75e"
      },
      "execution_count": 23,
      "outputs": [
        {
          "output_type": "stream",
          "name": "stdout",
          "text": [
            "\n",
            " after adding bonus 5\n",
            "                                        ID  MARKS\n",
            "0  <function to_numeric at 0x7e5e1efb4860>     90\n",
            "1  <function to_numeric at 0x7e5e1efb4860>     95\n",
            "2  <function to_numeric at 0x7e5e1efb4860>     83\n",
            "3  <function to_numeric at 0x7e5e1efb4860>     97\n"
          ]
        }
      ]
    },
    {
      "cell_type": "code",
      "source": [
        "df['MARKS_NORMALIZED'] = (df['MARKS']-df['MARKS'].min())/(df['MARKS'].max()-df['MARKS'].min())\n",
        "print(\"Normalization Marks\")\n",
        "print(df)"
      ],
      "metadata": {
        "colab": {
          "base_uri": "https://localhost:8080/"
        },
        "id": "VwmAt1RTJjYm",
        "outputId": "18d5043e-37cf-480f-c100-f1beb01f9522"
      },
      "execution_count": 24,
      "outputs": [
        {
          "output_type": "stream",
          "name": "stdout",
          "text": [
            "Normalization Marks\n",
            "                                        ID  MARKS  MARKS_NORMALIZED\n",
            "0  <function to_numeric at 0x7e5e1efb4860>     90          0.500000\n",
            "1  <function to_numeric at 0x7e5e1efb4860>     95          0.857143\n",
            "2  <function to_numeric at 0x7e5e1efb4860>     83          0.000000\n",
            "3  <function to_numeric at 0x7e5e1efb4860>     97          1.000000\n"
          ]
        }
      ]
    }
  ]
}