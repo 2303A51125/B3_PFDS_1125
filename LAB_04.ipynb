{
  "nbformat": 4,
  "nbformat_minor": 0,
  "metadata": {
    "colab": {
      "provenance": [],
      "authorship_tag": "ABX9TyO2kt0PNvwLhMcglh6mAqOk",
      "include_colab_link": true
    },
    "kernelspec": {
      "name": "python3",
      "display_name": "Python 3"
    },
    "language_info": {
      "name": "python"
    }
  },
  "cells": [
    {
      "cell_type": "markdown",
      "metadata": {
        "id": "view-in-github",
        "colab_type": "text"
      },
      "source": [
        "<a href=\"https://colab.research.google.com/github/2303A51125/B3_PFDS_1125/blob/main/LAB_04.ipynb\" target=\"_parent\"><img src=\"https://colab.research.google.com/assets/colab-badge.svg\" alt=\"Open In Colab\"/></a>"
      ]
    },
    {
      "cell_type": "code",
      "execution_count": 1,
      "metadata": {
        "colab": {
          "base_uri": "https://localhost:8080/"
        },
        "id": "3fmZvsZE82mp",
        "outputId": "44429ce3-ce26-4d76-86f6-213cbf0ebf89"
      },
      "outputs": [
        {
          "name": "stdout",
          "output_type": "stream",
          "text": [
            "Enter Student ID: 01\n",
            "Enter Student Name: Rishaak\n",
            "Enter Maths Marks: 90\n",
            "Enter Science Marks: 56\n",
            "Enter English Marks: 89\n",
            "Enter Student ID: 02\n",
            "Enter Student Name: Sumanth\n",
            "Enter Maths Marks: 99\n",
            "Enter Science Marks: 88\n",
            "Enter English Marks: 77\n",
            "Enter Student ID: 03\n",
            "Enter Student Name: Sai Trishool\n",
            "Enter Maths Marks: 99\n",
            "Enter Science Marks: 89\n",
            "Enter English Marks: 79\n"
          ]
        }
      ],
      "source": [
        " import csv\n",
        "with open(\"student_scores.csv\",'w', newline = '') as fp:\n",
        "  wr = csv.writer(fp)\n",
        "  wr.writerow([\"ID\", \"NAME\", \"MATHS\",\"SCIENCE\",\"ENGLISH\"])\n",
        "  for i in range(3):\n",
        "    student_ID = int(input(\"Enter Student ID: \"))\n",
        "    Name = input(\"Enter Student Name: \")\n",
        "    Maths = int(input(\"Enter Maths Marks: \"))\n",
        "    Science = int(input(\"Enter Science Marks: \"))\n",
        "    English = int(input(\"Enter English Marks: \"))\n",
        "    wr.writerow([student_ID, Name, Maths, Science, English])"
      ]
    },
    {
      "cell_type": "code",
      "source": [
        "import csv\n",
        "with open(\"student_scores.csv\",'r') as fp:\n",
        "  rd = csv.reader(fp)\n",
        "  for row in rd:\n",
        "    print(row)"
      ],
      "metadata": {
        "colab": {
          "base_uri": "https://localhost:8080/"
        },
        "id": "jCQEKQjZQP0H",
        "outputId": "19b8e911-079d-4df6-cfdf-1a6c17859364"
      },
      "execution_count": 2,
      "outputs": [
        {
          "output_type": "stream",
          "name": "stdout",
          "text": [
            "['ID', 'NAME', 'MATHS', 'SCIENCE', 'ENGLISH']\n",
            "['1', 'Rishaak', '90', '56', '89']\n",
            "['2', 'Sumanth', '99', '88', '77']\n",
            "['3', 'Sai Trishool', '99', '89', '79']\n"
          ]
        }
      ]
    },
    {
      "cell_type": "code",
      "source": [
        "import csv\n",
        "with open(\"hospital_records.csv\",'w', newline = '') as fp:\n",
        "  wr = csv.writer(fp)\n",
        "  wr.writerow([\"Patient_ID\", \"Name\", \"Age\", \"Gender\",\n",
        "\"Diagnosis\", \"Admission_Date\"])\n",
        "  for i in range(3):\n",
        "    Patient_ID = int(input(\"Enter Patient ID: \"))\n",
        "    Name = input(\"Enter Patient Name: \")\n",
        "    Age = int(input(\"Enter Patient Age: \"))\n",
        "    Gender = input(\"Enter Patient Gender: \")\n",
        "    Diagnosis = input(\"Enter Patient Diagnosis: \")\n",
        "    Admission_Date = input(\"Enter Patient Admission Date: \")\n",
        "    wr.writerow([Patient_ID, Name, Age, Gender,\n",
        "Diagnosis, Admission_Date])"
      ],
      "metadata": {
        "colab": {
          "base_uri": "https://localhost:8080/"
        },
        "id": "OGkzdNdeQTD4",
        "outputId": "1314079f-827f-4136-ff19-1c19cfe7c986"
      },
      "execution_count": 3,
      "outputs": [
        {
          "name": "stdout",
          "output_type": "stream",
          "text": [
            "Enter Patient ID: 01\n",
            "Enter Patient Name: Sai patel\n",
            "Enter Patient Age: 20\n",
            "Enter Patient Gender: O\n",
            "Enter Patient Diagnosis: AIDS\n",
            "Enter Patient Admission Date: 25-8-2025\n",
            "Enter Patient ID: 02\n",
            "Enter Patient Name: Sumanth\n",
            "Enter Patient Age: 20\n",
            "Enter Patient Gender: M\n",
            "Enter Patient Diagnosis: heart arrest\n",
            "Enter Patient Admission Date: 26-8-2025\n",
            "Enter Patient ID: 03\n",
            "Enter Patient Name: Sai Trishool\n",
            "Enter Patient Age: 20\n",
            "Enter Patient Gender: M\n",
            "Enter Patient Diagnosis: lung cancer\n",
            "Enter Patient Admission Date: 20-8-2025\n"
          ]
        }
      ]
    },
    {
      "cell_type": "code",
      "source": [
        "import csv\n",
        "with open(\"hospital_records.csv\",'r') as fp:\n",
        "  rd = csv.reader(fp)\n",
        "  for row in rd:\n",
        "    print(row)"
      ],
      "metadata": {
        "colab": {
          "base_uri": "https://localhost:8080/"
        },
        "id": "TTA4FTG_RCox",
        "outputId": "6348469c-c287-444b-9964-ca1a5533b2c9"
      },
      "execution_count": 4,
      "outputs": [
        {
          "output_type": "stream",
          "name": "stdout",
          "text": [
            "['Patient_ID', 'Name', 'Age', 'Gender', 'Diagnosis', 'Admission_Date']\n",
            "['1', 'Sai patel', '20', 'O', 'AIDS', '25-8-2025']\n",
            "['2', 'Sumanth', '20', 'M', 'heart arrest', '26-8-2025']\n",
            "['3', 'Sai Trishool', '20', 'M', 'lung cancer', '20-8-2025']\n"
          ]
        }
      ]
    }
  ]
}