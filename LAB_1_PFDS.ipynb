{
  "nbformat": 4,
  "nbformat_minor": 0,
  "metadata": {
    "colab": {
      "provenance": [],
      "authorship_tag": "ABX9TyP8ZWFQDMyslzcHFs9J544g",
      "include_colab_link": true
    },
    "kernelspec": {
      "name": "python3",
      "display_name": "Python 3"
    },
    "language_info": {
      "name": "python"
    }
  },
  "cells": [
    {
      "cell_type": "markdown",
      "metadata": {
        "id": "view-in-github",
        "colab_type": "text"
      },
      "source": [
        "<a href=\"https://colab.research.google.com/github/2303A51125/B3_PFDS_1125/blob/main/LAB_1_PFDS.ipynb\" target=\"_parent\"><img src=\"https://colab.research.google.com/assets/colab-badge.svg\" alt=\"Open In Colab\"/></a>"
      ]
    },
    {
      "cell_type": "code",
      "execution_count": 1,
      "metadata": {
        "colab": {
          "base_uri": "https://localhost:8080/"
        },
        "id": "FC6KcFSzB6oS",
        "outputId": "6611bdd5-87f1-4d7e-9d8f-4aefeb22d3a0"
      },
      "outputs": [
        {
          "output_type": "stream",
          "name": "stdout",
          "text": [
            "Enter a number (≤ 10): 10\n",
            "\n",
            "Tracing fact(10):\n",
            "\n",
            "Calling fact(10)\n",
            "  Calling fact(9)\n",
            "    Calling fact(8)\n",
            "      Calling fact(7)\n",
            "        Calling fact(6)\n",
            "          Calling fact(5)\n",
            "            Calling fact(4)\n",
            "              Calling fact(3)\n",
            "                Calling fact(2)\n",
            "                  Calling fact(1)\n",
            "                  Base case: fact(1) = 1\n",
            "                Returning: 2 * fact(1) = 2\n",
            "              Returning: 3 * fact(2) = 6\n",
            "            Returning: 4 * fact(3) = 24\n",
            "          Returning: 5 * fact(4) = 120\n",
            "        Returning: 6 * fact(5) = 720\n",
            "      Returning: 7 * fact(6) = 5040\n",
            "    Returning: 8 * fact(7) = 40320\n",
            "  Returning: 9 * fact(8) = 362880\n",
            "Returning: 10 * fact(9) = 3628800\n",
            "\n",
            "Result: fact(10) = 3628800\n"
          ]
        }
      ],
      "source": [
        "def fact(i, d=0):\n",
        "    space = \"  \" * d\n",
        "    print(f\"{space}Calling fact({i})\")\n",
        "\n",
        "    if i == 0 or i == 1:\n",
        "        print(f\"{space}Base case: fact({i}) = 1\")\n",
        "        return 1\n",
        "    else:\n",
        "        res = i * fact(i - 1, d + 1)\n",
        "        print(f\"{space}Returning: {i} * fact({i - 1}) = {res}\")\n",
        "        return res\n",
        "\n",
        "while True:\n",
        "    try:\n",
        "        i = int(input(\"Enter a number (≤ 10): \"))\n",
        "        if 0 <= i <= 10:\n",
        "            break\n",
        "        else:\n",
        "            print(\"Please enter a number between 0 and 10.\")\n",
        "    except:\n",
        "        print(\"Invalid input. Enter a number.\")\n",
        "\n",
        "print(f\"\\nTracing fact({i}):\\n\")\n",
        "ans = fact(i)\n",
        "print(f\"\\nResult: fact({i}) = {ans}\")"
      ]
    }
  ]
}